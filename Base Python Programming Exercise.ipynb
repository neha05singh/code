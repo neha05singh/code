{
 "cells": [
  {
   "cell_type": "markdown",
   "metadata": {},
   "source": [
    "## Python Basic Programming Exercises"
   ]
  },
  {
   "cell_type": "raw",
   "metadata": {},
   "source": [
    "Q1: What is the output of following expression\n",
    "    5 + 4 * 9 % (3 + 1) / 6 - 1"
   ]
  },
  {
   "cell_type": "code",
   "execution_count": null,
   "metadata": {},
   "outputs": [],
   "source": [
    "x = 5 + 4 * 9 % (3 + 1) / 6 - 1\n",
    "x = 5 + 4 * 9 % 4 / 6 - 1\n",
    "x = 5 + 36 % 4 / 6 - 1\n",
    "x = 5 + 0 - 1\n",
    "print(x) "
   ]
  },
  {
   "cell_type": "raw",
   "metadata": {},
   "source": [
    "Q2: Write a program to check if a Number is Odd or Even. Take number as a input from user at runtime."
   ]
  },
  {
   "cell_type": "code",
   "execution_count": null,
   "metadata": {},
   "outputs": [],
   "source": [
    "chk_num = int(input('Enter the value to check whether it is EVEN or ODD: '))\n",
    "\n",
    "if chk_num % 2 == 0:\n",
    "    print(chk_num, 'is an Even Number')\n",
    "else:\n",
    "    print(chk_num, 'is an Odd Number')"
   ]
  },
  {
   "cell_type": "raw",
   "metadata": {},
   "source": [
    "Q3: Write a program to display the multiplication table by taking a number as input. \n",
    "    [Hint : Use print statement inside of a loop]"
   ]
  },
  {
   "cell_type": "code",
   "execution_count": null,
   "metadata": {},
   "outputs": [],
   "source": [
    "user_input = int(input('Enter the number to display the multiplication table: '))\n",
    "\n",
    "for i in range(1,11):\n",
    "    print(user_input,' * ',i,' = ', user_input*i)"
   ]
  },
  {
   "cell_type": "raw",
   "metadata": {},
   "source": [
    "Q4: Write a program which will find all numbers between 2000 and 3200 which are divisible by 7 \n",
    "    but are not a multiple of 5.\n",
    " \n",
    "Note: The numbers obtained should be printed in a comma-separated sequence on a single line."
   ]
  },
  {
   "cell_type": "code",
   "execution_count": null,
   "metadata": {},
   "outputs": [],
   "source": [
    "a = 2000\n",
    "b = 3200\n",
    "my_list = [i for i in range(a,b) if i % 7 == 0 and i % 5 != 0]\n",
    "print(my_list)"
   ]
  },
  {
   "cell_type": "raw",
   "metadata": {},
   "source": [
    "Q5: Count the elements of each datatype inside the list and display in output\n",
    "    [2, 3, 'Py', 10, 1, 'SQL', 5.5, True, 3, 'John', None, 7]    "
   ]
  },
  {
   "cell_type": "code",
   "execution_count": null,
   "metadata": {},
   "outputs": [],
   "source": [
    "my_list = [2, 3, 'Py', 10, 1, 'SQL', 5.5, True, 3, 'John', None, 7] \n",
    "\n",
    "for x in my_list:\n",
    "    print('Count of element ',x,' is ',my_list.count(x))"
   ]
  },
  {
   "cell_type": "raw",
   "metadata": {},
   "source": [
    "Q6: Add all values from the list with numeric datatypes \n",
    "    [2, 3, 'Py', 10, 1, 'SQL', 5.5, True, 3, 'John', None, 7] "
   ]
  },
  {
   "cell_type": "code",
   "execution_count": null,
   "metadata": {},
   "outputs": [],
   "source": [
    "def my_sum(lst):\n",
    "    lst = [i if str(i).isnumeric() else 0 for i in lst]\n",
    "    res = 0\n",
    "    for i in lst:\n",
    "        res = res + i\n",
    "    return res\n",
    "\n",
    "\n",
    "my_sum([2, 3, 'Py', 10, 1, 'SQL', 5.5, True, 3, 'John', None, 7])"
   ]
  },
  {
   "cell_type": "raw",
   "metadata": {},
   "source": [
    "Q7: Concat all str datatypes with hyphen as a delimiter\n",
    "    [2, 3, 'Py', 10, 1, 'SQL', 5.5, True, 3, 'John', None, 7] "
   ]
  },
  {
   "cell_type": "code",
   "execution_count": 2,
   "metadata": {},
   "outputs": [
    {
     "name": "stdout",
     "output_type": "stream",
     "text": [
      "2-3-Py-10-1-SQL-5.5-True-3-John-None-7\n"
     ]
    }
   ],
   "source": [
    "li = [2, 3, 'Py', 10, 1, 'SQL', 5.5, True, 3, 'John', None, 7] \n",
    "\n",
    "li = '-'.join([str(i)for i in li])\n",
    "print(li)"
   ]
  },
  {
   "cell_type": "raw",
   "metadata": {},
   "source": [
    "Q8: Write a UDF that takes list as input and returns sum of all numbers \n",
    "    (exclude bool) and count of all str \n",
    "    [2, 3, 'Py', 10, 1, 'SQL', 5.5, True, 3, 'John', None, 7] \n",
    "    \n",
    "Hint:\n",
    "-----\n",
    "def my_func:\n",
    "    # your code\n",
    "        \n",
    "my_func(l1)\n",
    "# output --> {'Sum': xxx, 'Count_of_Strs': xxx}"
   ]
  },
  {
   "cell_type": "code",
   "execution_count": 1,
   "metadata": {},
   "outputs": [
    {
     "data": {
      "text/plain": [
       "{'Sum': 26, 'Count_of_Strs': 12}"
      ]
     },
     "execution_count": 1,
     "metadata": {},
     "output_type": "execute_result"
    }
   ],
   "source": [
    "def sumAndCount(*args):\n",
    "    res = {}\n",
    "    args = [i if str(i).isnumeric() else 0 for i in args]\n",
    "    val = 0\n",
    "    for i in args:\n",
    "        val = val + i\n",
    "    res['Sum'] = val\n",
    "    counter = 0\n",
    "    for i in args:\n",
    "        counter = counter + 1\n",
    "    res['Count_of_Strs'] = counter\n",
    "    return res\n",
    "\n",
    "sumAndCount(2, 3, 'Py', 10, 1, 'SQL', 5.5, True, 3, 'John', None, 7)\n",
    "  "
   ]
  },
  {
   "cell_type": "raw",
   "metadata": {},
   "source": [
    "Q9: Get only odd numbers from the following list and store the numbers in new list\n",
    "    li = [5, 7, 22, 97, 54, 62, 77, 23, 73, 61]\n",
    "\n",
    "    i. Use loops to get the answer\n",
    "   ii. Use list comprehensions\n",
    "  iii. Use lambda function with filter"
   ]
  },
  {
   "cell_type": "code",
   "execution_count": null,
   "metadata": {},
   "outputs": [],
   "source": [
    "#i. Use loops to get the answer\n",
    "\n",
    "li = [5, 7, 22, 97, 54, 62, 77, 23, 73, 61]\n",
    "\n",
    "for i in li:\n",
    "    if i%2 != 0:\n",
    "        print(i)\n",
    "    else:\n",
    "        pass\n"
   ]
  },
  {
   "cell_type": "code",
   "execution_count": null,
   "metadata": {},
   "outputs": [],
   "source": [
    "#ii. Use list comprehensions\n",
    "\n",
    "li = [5, 7, 22, 97, 54, 62, 77, 23, 73, 61]\n",
    "\n",
    "my_list = [i for i in li if i % 2 != 0]\n",
    "my_list"
   ]
  },
  {
   "cell_type": "code",
   "execution_count": null,
   "metadata": {},
   "outputs": [],
   "source": [
    "#iii. Use lambda function with filter\n",
    "\n",
    "li = [5, 7, 22, 97, 54, 62, 77, 23, 73, 61]\n",
    "\n",
    "print(list(filter(lambda i : True if i%2 != 0 else False, li)))"
   ]
  },
  {
   "cell_type": "raw",
   "metadata": {},
   "source": [
    "Q10: Write a UDF to return the descriptives [sum, count, min, mean, max] for a list of n number of input \n",
    "    numbers."
   ]
  },
  {
   "cell_type": "code",
   "execution_count": null,
   "metadata": {},
   "outputs": [],
   "source": [
    "def agg_func(*lst,**kwargs):\n",
    "    default_dict ={'agg_type':''}\n",
    "    default_dict.update(kwargs)\n",
    "    final_dict = default_dict\n",
    "\n",
    "    final_dict['agg_type'] = final_dict['agg_type'].lower()\n",
    "    lst = [i if str(i).isnumeric() else 0 for i in lst]\n",
    "    if final_dict['agg_type'] == 'sum':\n",
    "        res = 0\n",
    "        for i in lst:\n",
    "            res = res + i\n",
    "        return res\n",
    "    if final_dict['agg_type'] == 'count':\n",
    "        counter = 0\n",
    "        for i in lst:\n",
    "            counter = counter + 1\n",
    "        return counter\n",
    "    if final_dict['agg_type'] == 'min':\n",
    "        res = 9999999\n",
    "        for i in lst:\n",
    "            if i < res:\n",
    "                res = i\n",
    "        return res\n",
    "    if final_dict['agg_type'] == 'max':\n",
    "        res = -9999999\n",
    "        for i in lst:\n",
    "            if i > res:\n",
    "                res = i\n",
    "        return res\n",
    "    if final_dict['agg_type'] == 'mean':\n",
    "        res = 0\n",
    "        for i in lst:\n",
    "            res = sum(lst) / len(lst)\n",
    "        return res\n",
    "    \n",
    "agg_func(2, 3, 'Py', 10, 1, 'SQL', 5.5, True, 3, 'John', None, 7,agg_type='maX')"
   ]
  },
  {
   "cell_type": "raw",
   "metadata": {},
   "source": [
    "Q11: Write an udf to calculate the area of different shapes\n",
    "\n",
    "Take shape and dimensions as arguments to udf as follows : \n",
    "\n",
    "1. square which has side\n",
    "2. rectangle which has length and width\n",
    "3. circle which has radius\n",
    "\n",
    "The shape should be a positional argument and it's dimensions are taken as kwargs\n",
    "\n",
    "Perform proper validation for the user inputs and then calculate area.\n",
    "\n",
    "E.g. if shape is square, ensure kwargs has \"side\" and if so, then you may return the area, else display appropriate error message like \"Please enter 'side' for a square\""
   ]
  },
  {
   "cell_type": "code",
   "execution_count": null,
   "metadata": {},
   "outputs": [],
   "source": [
    "def calculate_area(shape,**kwargs):\n",
    "    shape = shape.lower()\n",
    "    if shape == 'square':\n",
    "        if len(kwargs) == 1:\n",
    "            res = 1\n",
    "            for k,v in kwargs.items():\n",
    "                res = v*v\n",
    "            return res\n",
    "        else:\n",
    "            print('Please enter sides for square')\n",
    "    elif shape == 'rectangle':\n",
    "        if len(kwargs) == 2:\n",
    "            res = 1\n",
    "            for k,v in kwargs.items():\n",
    "                res = res*v\n",
    "            return res\n",
    "        else:\n",
    "            print('Please enter length and width for rectangle')\n",
    "    elif shape == 'circle':\n",
    "        if len(kwargs) == 1:\n",
    "            res = 1\n",
    "            for k,v in kwargs.items():\n",
    "                res = (v*v) * 3.1416\n",
    "            return res\n",
    "        else:\n",
    "            print('Please enter radius for circle')\n",
    "    else:\n",
    "        print('Type a valid option')\n",
    "\n",
    "calculate_area('circlE',radius = 6)"
   ]
  },
  {
   "cell_type": "raw",
   "metadata": {},
   "source": [
    "Q12: Write a UDF to reconcile the values within two lists.\n",
    "    l1 = ['January', 'February', 'March', 'May', 'June', 'September', 'December']\n",
    "    l2 = ['January', 'February', 'April', 'June', 'October', 'December']\n",
    "\n",
    "Hint:\n",
    "-----\n",
    "def func(l1, l2):\n",
    "    your code here...\n",
    "    \n",
    "Output:\n",
    "{'Matched': ['January', 'February', 'June', 'December'],\n",
    "    'Only in l1': ['March', 'May', 'September'],\n",
    "        'Only in l2': ['April', 'October']}"
   ]
  },
  {
   "cell_type": "code",
   "execution_count": null,
   "metadata": {},
   "outputs": [],
   "source": [
    "def common_data(l1,l2):\n",
    "    res = {}\n",
    "    lst_common = []\n",
    "    lst1_notcommon = []\n",
    "    lst2_notcommon = []\n",
    "    for a in l1:\n",
    "        for b in l2:\n",
    "            if a == b:\n",
    "                lst_common.append(a)\n",
    "        if a not in lst_common:\n",
    "            lst1_notcommon.append(a)\n",
    "    for b in l2:\n",
    "        if b not in lst_common:\n",
    "            lst2_notcommon.append(b)\n",
    "    res['Matched'] = lst_common\n",
    "    res['Only in l1'] = lst1_notcommon\n",
    "    res['Only in l2'] = lst2_notcommon\n",
    "    return res\n",
    "            \n",
    "common_data(['January', 'February', 'March', 'May', 'June', 'September', 'December'],['January', 'February', 'April', 'June', 'October', 'December'])\n"
   ]
  },
  {
   "cell_type": "raw",
   "metadata": {
    "collapsed": true
   },
   "source": [
    "Q13: write a UDF to check if a number is prime or not."
   ]
  },
  {
   "cell_type": "code",
   "execution_count": null,
   "metadata": {},
   "outputs": [],
   "source": [
    "def cal_prime(num):\n",
    "    if num > 1:\n",
    "        for i in range(2, int(num/2)+1):\n",
    "            if (num % i) == 0:\n",
    "                print(num, \"is not a prime number\")\n",
    "                break\n",
    "        else:\n",
    "                print(num, \"is a prime number\")\n",
    "    else:\n",
    "        print(num, \"is not a prime number\")\n",
    "\n",
    "cal_prime(41)"
   ]
  },
  {
   "cell_type": "raw",
   "metadata": {
    "collapsed": true
   },
   "source": [
    "Q14. Write a program which can compute the factorial of a given numbers. \n",
    "#   The results should be printed in a comma-separated sequence on a single line. \n",
    "# input() function can be used for getting user(console) input\n",
    "\n",
    "\n",
    "#Suppose the input is supplied to the program:  8  \n",
    "#Then, the output should be:  40320 \n",
    "#Hints: In case of input data being supplied to the question, it should be assumed to be a console input. \n"
   ]
  },
  {
   "cell_type": "code",
   "execution_count": null,
   "metadata": {},
   "outputs": [],
   "source": [
    "num = int(input('Enter the value for which you need the factorial value: '))\n",
    "fact = 1\n",
    "\n",
    "for i in range(1,num+1):\n",
    "    fact = fact * i\n",
    "print('Factorial of the number ',num,' is ',fact)"
   ]
  },
  {
   "cell_type": "raw",
   "metadata": {
    "collapsed": true
   },
   "source": [
    "Q15. With a given integral number n, write a program to generate a dictionary that contains (i, i*i) such that is an integral number between 1 and n (both included). and then the program should print the dictionary.\n",
    "\n",
    "#Suppose the following input is supplied to the program: 8\n",
    "#Then, the output should be: {1: 1, 2: 4, 3: 9, 4: 16, 5: 25, 6: 36, 7: 49, 8: 64}\n",
    "#Hints: In case of input data being supplied to the question, it should be assumed to be a console input. Consider using dict()\n",
    "\n"
   ]
  },
  {
   "cell_type": "code",
   "execution_count": null,
   "metadata": {},
   "outputs": [],
   "source": [
    "user_input = int(input('Enter the value:\\t'))\n",
    "user_output = {i : i**2 for i in range(user_input + 1)}\n",
    "user_output"
   ]
  },
  {
   "cell_type": "raw",
   "metadata": {
    "collapsed": true
   },
   "source": [
    "Q16. Write a program which accepts a sequence of comma-separated numbers from console and generate a list and a tuple which contains every number.\n",
    "#Suppose the following input is supplied to the program: 34,67,55,33,12,98\n",
    "    #Then, the output should be: ['34', '67', '55', '33', '12', '98'] ('34', '67', '55', '33', '12', '98')\n",
    "\n",
    "#Hints: In case of input data being supplied to the question, it should be assumed to be a console input. you may use tuple() method to convert list to tuple\n"
   ]
  },
  {
   "cell_type": "code",
   "execution_count": null,
   "metadata": {},
   "outputs": [],
   "source": [
    "user_input = input('Enter the values with comma-seperators: ')\n",
    "my_list = list(user_input.split(','))\n",
    "print(my_list)\n",
    "mytuple = tuple(my_list)\n",
    "print(mytuple)"
   ]
  },
  {
   "cell_type": "raw",
   "metadata": {
    "collapsed": true
   },
   "source": [
    "Q17. Write a program that accepts a comma separated sequence of words as input and \n",
    "# prints the words in a comma-separated sequence after sorting them alphabetically.\n",
    "\n",
    "# Suppose the following input is supplied to the program: without,hello,bag,world\n",
    "# Then, the output should be: bag,hello,without,world\n",
    "\n",
    "#Hints: In case of input data being supplied to the question, it should be assumed to be a console input.\n"
   ]
  },
  {
   "cell_type": "code",
   "execution_count": null,
   "metadata": {},
   "outputs": [],
   "source": [
    "user_input = input('Enter the words with comma-seperators: ')\n",
    "my_list = user_input.split(',')\n",
    "my_list.sort()\n",
    "print(my_list)"
   ]
  },
  {
   "cell_type": "raw",
   "metadata": {
    "collapsed": true
   },
   "source": [
    "Q18. Write a program that accepts a sequence of whitespace separated words \n",
    "# as input and prints the words after removing all duplicate words and sorting them alphanumerically.\n",
    "# Suppose the following input is supplied to the program: hello world and practice makes perfect and hello world again\n",
    "# Then, the output should be: again and hello makes perfect practice world\n",
    "\n",
    "#Hints: In case of input data being supplied to the question, it should be assumed to be a console input.\n",
    "#We use set container to remove duplicated data automatically and then use sorted() to sort the data.\n"
   ]
  },
  {
   "cell_type": "code",
   "execution_count": null,
   "metadata": {},
   "outputs": [],
   "source": [
    "user_string = input('Enter the text: ')\n",
    "print(' '.join(sorted(dict.fromkeys(user_string.split()))))"
   ]
  },
  {
   "cell_type": "raw",
   "metadata": {
    "collapsed": true
   },
   "source": [
    "Q19. Write a program that accepts a sentence and calculate the number of upper case \n",
    "# letters and lower case letters.\n",
    "#Suppose the following input is supplied to the program: Hello world!\n",
    "#Then, the output should be: UPPER CASE 1 LOWER CASE 9\n",
    "\n",
    "#Hints: In case of input data being supplied to the question, it should be assumed to be a console input.\n"
   ]
  },
  {
   "cell_type": "code",
   "execution_count": null,
   "metadata": {},
   "outputs": [],
   "source": [
    "str_input = input('Please enter the sentence: ')\n",
    "str_input = list(str_input)\n",
    "u = 0\n",
    "l = 0\n",
    "\n",
    "for i in str_input:\n",
    "    if i.isupper():\n",
    "        u = u + 1\n",
    "    if i.islower():\n",
    "        l = l + 1\n",
    "    else:\n",
    "        pass\n",
    "print('UPPER CASE: ',u)\n",
    "print('LOWER CASE: ',l)"
   ]
  },
  {
   "cell_type": "raw",
   "metadata": {
    "collapsed": true
   },
   "source": [
    "Q20. Write a program that takes a string and returns reversed string. i.e. if input is \"abcd123\" output should be \"321dcba\""
   ]
  },
  {
   "cell_type": "code",
   "execution_count": 14,
   "metadata": {},
   "outputs": [
    {
     "name": "stdout",
     "output_type": "stream",
     "text": [
      "\n"
     ]
    }
   ],
   "source": [
    "mytext = str(input('Please type some text: '))[::-1]\n",
    "print(mytext)"
   ]
  }
 ],
 "metadata": {
  "interpreter": {
   "hash": "b3ba2566441a7c06988d0923437866b63cedc61552a5af99d1f4fb67d367b25f"
  },
  "kernelspec": {
   "display_name": "Python 3.8.8 64-bit ('base': conda)",
   "name": "python3"
  },
  "language_info": {
   "codemirror_mode": {
    "name": "ipython",
    "version": 3
   },
   "file_extension": ".py",
   "mimetype": "text/x-python",
   "name": "python",
   "nbconvert_exporter": "python",
   "pygments_lexer": "ipython3",
   "version": "3.8.8"
  },
  "varInspector": {
   "cols": {
    "lenName": 16,
    "lenType": 16,
    "lenVar": 40
   },
   "kernels_config": {
    "python": {
     "delete_cmd_postfix": "",
     "delete_cmd_prefix": "del ",
     "library": "var_list.py",
     "varRefreshCmd": "print(var_dic_list())"
    },
    "r": {
     "delete_cmd_postfix": ") ",
     "delete_cmd_prefix": "rm(",
     "library": "var_list.r",
     "varRefreshCmd": "cat(var_dic_list()) "
    }
   },
   "types_to_exclude": [
    "module",
    "function",
    "builtin_function_or_method",
    "instance",
    "_Feature"
   ],
   "window_display": false
  }
 },
 "nbformat": 4,
 "nbformat_minor": 2
}
